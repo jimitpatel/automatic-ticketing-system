{
  "nbformat": 4,
  "nbformat_minor": 0,
  "metadata": {
    "colab": {
      "name": "eda-data-augmentation",
      "provenance": []
    },
    "kernelspec": {
      "name": "python3",
      "display_name": "Python 3"
    }
  },
  "cells": [
    {
      "cell_type": "code",
      "metadata": {
        "id": "2vkwZG7Rn_lJ",
        "colab_type": "code",
        "colab": {
          "base_uri": "https://localhost:8080/",
          "height": 51
        },
        "outputId": "b43c651f-f095-4904-9c02-2b4b926e6e05"
      },
      "source": [
        "import numpy as np\n",
        "import pandas as pd\n",
        "\n",
        "import spacy\n",
        "import en_core_web_sm\n",
        "nlp = en_core_web_sm.load()\n",
        "from spacy.lang.en.stop_words import STOP_WORDS\n",
        "STOP_WORDS.remove('call')\n",
        "\n",
        "import nltk\n",
        "nltk.download('wordnet')\n",
        "from nltk.corpus import wordnet\n",
        "\n",
        "import random\n",
        "from random import shuffle\n",
        "random.seed(1)"
      ],
      "execution_count": null,
      "outputs": [
        {
          "output_type": "stream",
          "text": [
            "[nltk_data] Downloading package wordnet to /root/nltk_data...\n",
            "[nltk_data]   Package wordnet is already up-to-date!\n"
          ],
          "name": "stdout"
        }
      ]
    },
    {
      "cell_type": "code",
      "metadata": {
        "id": "OVD2zbrmoLNa",
        "colab_type": "code",
        "colab": {
          "base_uri": "https://localhost:8080/",
          "height": 122
        },
        "outputId": "50e4fc40-c9e0-4360-9136-4fd768ccde96"
      },
      "source": [
        "from google.colab import drive\n",
        "drive.mount('/content/drive')"
      ],
      "execution_count": null,
      "outputs": [
        {
          "output_type": "stream",
          "text": [
            "Go to this URL in a browser: https://accounts.google.com/o/oauth2/auth?client_id=947318989803-6bn6qk8qdgf4n4g3pfee6491hc0brc4i.apps.googleusercontent.com&redirect_uri=urn%3aietf%3awg%3aoauth%3a2.0%3aoob&scope=email%20https%3a%2f%2fwww.googleapis.com%2fauth%2fdocs.test%20https%3a%2f%2fwww.googleapis.com%2fauth%2fdrive%20https%3a%2f%2fwww.googleapis.com%2fauth%2fdrive.photos.readonly%20https%3a%2f%2fwww.googleapis.com%2fauth%2fpeopleapi.readonly&response_type=code\n",
            "\n",
            "Enter your authorization code:\n",
            "4/3wEBzLZxMm3fYX1JQqUgm28-5_Yos67NDn4_nTfWPtfl1JHSDGtQsYE\n",
            "Mounted at /content/drive\n"
          ],
          "name": "stdout"
        }
      ]
    },
    {
      "cell_type": "code",
      "metadata": {
        "id": "BIswJG5koOCq",
        "colab_type": "code",
        "colab": {}
      },
      "source": [
        "PATH = '/content/'\n",
        "FILE = f'{PATH}stopwords.xlsx'\n",
        "\n",
        "X0 = 'Final Data'\n",
        "X1 = 'Short description'\n",
        "X2 = 'Description'\n",
        "X3 = 'Caller'\n",
        "Y = 'Assignment group'\n",
        "\n",
        "X4 = 'Word Count'\n",
        "X5 = 'Short Word Count'"
      ],
      "execution_count": null,
      "outputs": []
    },
    {
      "cell_type": "code",
      "metadata": {
        "id": "w8uYMN45OEtc",
        "colab_type": "code",
        "colab": {}
      },
      "source": [
        "def merge_data(short_desc, long_desc):\n",
        "    if str(long_desc).find(str(short_desc)) != -1:\n",
        "        return str(long_desc).lower()\n",
        "    else:\n",
        "        return (str(short_desc) + \" \" + str(long_desc)).lower()"
      ],
      "execution_count": null,
      "outputs": []
    },
    {
      "cell_type": "code",
      "metadata": {
        "id": "xgDuahOpoPu-",
        "colab_type": "code",
        "colab": {}
      },
      "source": [
        "data = None\n",
        "data = pd.read_excel(FILE, engine='openpyxl')\n",
        "data[X0] = data.apply(lambda x: merge_data(x[X1], x[X2]), axis=1)\n",
        "data[X4] = data[X0].str.split(\" \").apply(lambda x: len(x))\n",
        "data[X5] = data[X1].astype(str).str.split(\" \").apply(lambda x: len(x))"
      ],
      "execution_count": null,
      "outputs": []
    },
    {
      "cell_type": "code",
      "metadata": {
        "id": "cJaMKZukoXcD",
        "colab_type": "code",
        "colab": {
          "base_uri": "https://localhost:8080/",
          "height": 306
        },
        "outputId": "4e065560-2015-40e2-ac8c-ee1164bdc24e"
      },
      "source": [
        "data.head()"
      ],
      "execution_count": null,
      "outputs": [
        {
          "output_type": "execute_result",
          "data": {
            "text/html": [
              "<div>\n",
              "<style scoped>\n",
              "    .dataframe tbody tr th:only-of-type {\n",
              "        vertical-align: middle;\n",
              "    }\n",
              "\n",
              "    .dataframe tbody tr th {\n",
              "        vertical-align: top;\n",
              "    }\n",
              "\n",
              "    .dataframe thead th {\n",
              "        text-align: right;\n",
              "    }\n",
              "</style>\n",
              "<table border=\"1\" class=\"dataframe\">\n",
              "  <thead>\n",
              "    <tr style=\"text-align: right;\">\n",
              "      <th></th>\n",
              "      <th>Unnamed: 0</th>\n",
              "      <th>Short description</th>\n",
              "      <th>Description</th>\n",
              "      <th>Caller</th>\n",
              "      <th>Assignment group</th>\n",
              "      <th>Final Data</th>\n",
              "      <th>Word Count</th>\n",
              "      <th>Short Word Count</th>\n",
              "    </tr>\n",
              "  </thead>\n",
              "  <tbody>\n",
              "    <tr>\n",
              "      <th>0</th>\n",
              "      <td>0</td>\n",
              "      <td>login issue</td>\n",
              "      <td>verified user details employee manager checked...</td>\n",
              "      <td>spxjnwir pjlcoqds</td>\n",
              "      <td>GRP_0</td>\n",
              "      <td>verified user details employee manager checked...</td>\n",
              "      <td>20</td>\n",
              "      <td>2</td>\n",
              "    </tr>\n",
              "    <tr>\n",
              "      <th>1</th>\n",
              "      <td>1</td>\n",
              "      <td>outlook</td>\n",
              "      <td>received hello team meetings skype meetings et...</td>\n",
              "      <td>hmjdrvpb komuaywn</td>\n",
              "      <td>GRP_0</td>\n",
              "      <td>received hello team meetings skype meetings et...</td>\n",
              "      <td>14</td>\n",
              "      <td>1</td>\n",
              "    </tr>\n",
              "    <tr>\n",
              "      <th>2</th>\n",
              "      <td>2</td>\n",
              "      <td>nt log vpn</td>\n",
              "      <td>received hi log vpn best</td>\n",
              "      <td>eylqgodm ybqkwiam</td>\n",
              "      <td>GRP_0</td>\n",
              "      <td>nt log vpn received hi log vpn best</td>\n",
              "      <td>8</td>\n",
              "      <td>3</td>\n",
              "    </tr>\n",
              "    <tr>\n",
              "      <th>3</th>\n",
              "      <td>3</td>\n",
              "      <td>unable access hr tool page</td>\n",
              "      <td>unable access hr tool page</td>\n",
              "      <td>xbkucsvz gcpydteq</td>\n",
              "      <td>GRP_0</td>\n",
              "      <td>unable access hr tool page</td>\n",
              "      <td>5</td>\n",
              "      <td>5</td>\n",
              "    </tr>\n",
              "    <tr>\n",
              "      <th>4</th>\n",
              "      <td>4</td>\n",
              "      <td>skype error</td>\n",
              "      <td>skype error</td>\n",
              "      <td>owlgqjme qhcozdfx</td>\n",
              "      <td>GRP_0</td>\n",
              "      <td>skype error</td>\n",
              "      <td>2</td>\n",
              "      <td>2</td>\n",
              "    </tr>\n",
              "  </tbody>\n",
              "</table>\n",
              "</div>"
            ],
            "text/plain": [
              "   Unnamed: 0           Short description  ... Word Count Short Word Count\n",
              "0           0                 login issue  ...         20                2\n",
              "1           1                     outlook  ...         14                1\n",
              "2           2                  nt log vpn  ...          8                3\n",
              "3           3  unable access hr tool page  ...          5                5\n",
              "4           4                 skype error  ...          2                2\n",
              "\n",
              "[5 rows x 8 columns]"
            ]
          },
          "metadata": {
            "tags": []
          },
          "execution_count": 106
        }
      ]
    },
    {
      "cell_type": "code",
      "metadata": {
        "id": "pPHadwrzOOeB",
        "colab_type": "code",
        "colab": {
          "base_uri": "https://localhost:8080/",
          "height": 272
        },
        "outputId": "0e06bcf0-e998-45c5-fe19-4fcce04f2a88"
      },
      "source": [
        "data.info()"
      ],
      "execution_count": null,
      "outputs": [
        {
          "output_type": "stream",
          "text": [
            "<class 'pandas.core.frame.DataFrame'>\n",
            "RangeIndex: 8492 entries, 0 to 8491\n",
            "Data columns (total 8 columns):\n",
            " #   Column             Non-Null Count  Dtype \n",
            "---  ------             --------------  ----- \n",
            " 0   Unnamed: 0         8492 non-null   int64 \n",
            " 1   Short description  8478 non-null   object\n",
            " 2   Description        8425 non-null   object\n",
            " 3   Caller             8492 non-null   object\n",
            " 4   Assignment group   8492 non-null   object\n",
            " 5   Final Data         8492 non-null   object\n",
            " 6   Word Count         8492 non-null   int64 \n",
            " 7   Short Word Count   8492 non-null   int64 \n",
            "dtypes: int64(3), object(5)\n",
            "memory usage: 530.9+ KB\n"
          ],
          "name": "stdout"
        }
      ]
    },
    {
      "cell_type": "code",
      "metadata": {
        "id": "5oHzUgUUoYJF",
        "colab_type": "code",
        "colab": {
          "base_uri": "https://localhost:8080/",
          "height": 142
        },
        "outputId": "03a77bce-dee5-4f48-8256-97a98085334d"
      },
      "source": [
        "data.describe().T"
      ],
      "execution_count": null,
      "outputs": [
        {
          "output_type": "execute_result",
          "data": {
            "text/html": [
              "<div>\n",
              "<style scoped>\n",
              "    .dataframe tbody tr th:only-of-type {\n",
              "        vertical-align: middle;\n",
              "    }\n",
              "\n",
              "    .dataframe tbody tr th {\n",
              "        vertical-align: top;\n",
              "    }\n",
              "\n",
              "    .dataframe thead th {\n",
              "        text-align: right;\n",
              "    }\n",
              "</style>\n",
              "<table border=\"1\" class=\"dataframe\">\n",
              "  <thead>\n",
              "    <tr style=\"text-align: right;\">\n",
              "      <th></th>\n",
              "      <th>count</th>\n",
              "      <th>mean</th>\n",
              "      <th>std</th>\n",
              "      <th>min</th>\n",
              "      <th>25%</th>\n",
              "      <th>50%</th>\n",
              "      <th>75%</th>\n",
              "      <th>max</th>\n",
              "    </tr>\n",
              "  </thead>\n",
              "  <tbody>\n",
              "    <tr>\n",
              "      <th>Unnamed: 0</th>\n",
              "      <td>8492.0</td>\n",
              "      <td>4245.500000</td>\n",
              "      <td>2451.573576</td>\n",
              "      <td>0.0</td>\n",
              "      <td>2122.75</td>\n",
              "      <td>4245.5</td>\n",
              "      <td>6368.25</td>\n",
              "      <td>8491.0</td>\n",
              "    </tr>\n",
              "    <tr>\n",
              "      <th>Word Count</th>\n",
              "      <td>8492.0</td>\n",
              "      <td>18.156500</td>\n",
              "      <td>41.855103</td>\n",
              "      <td>1.0</td>\n",
              "      <td>5.00</td>\n",
              "      <td>9.0</td>\n",
              "      <td>19.00</td>\n",
              "      <td>1062.0</td>\n",
              "    </tr>\n",
              "    <tr>\n",
              "      <th>Short Word Count</th>\n",
              "      <td>8492.0</td>\n",
              "      <td>4.962789</td>\n",
              "      <td>2.570276</td>\n",
              "      <td>1.0</td>\n",
              "      <td>3.00</td>\n",
              "      <td>4.0</td>\n",
              "      <td>6.00</td>\n",
              "      <td>19.0</td>\n",
              "    </tr>\n",
              "  </tbody>\n",
              "</table>\n",
              "</div>"
            ],
            "text/plain": [
              "                   count         mean          std  ...     50%      75%     max\n",
              "Unnamed: 0        8492.0  4245.500000  2451.573576  ...  4245.5  6368.25  8491.0\n",
              "Word Count        8492.0    18.156500    41.855103  ...     9.0    19.00  1062.0\n",
              "Short Word Count  8492.0     4.962789     2.570276  ...     4.0     6.00    19.0\n",
              "\n",
              "[3 rows x 8 columns]"
            ]
          },
          "metadata": {
            "tags": []
          },
          "execution_count": 108
        }
      ]
    },
    {
      "cell_type": "code",
      "metadata": {
        "id": "zhC_PtpTORfr",
        "colab_type": "code",
        "colab": {
          "base_uri": "https://localhost:8080/",
          "height": 34
        },
        "outputId": "7b0702f6-01b8-40a7-c2bc-ddbba70147cc"
      },
      "source": [
        "data.shape"
      ],
      "execution_count": null,
      "outputs": [
        {
          "output_type": "execute_result",
          "data": {
            "text/plain": [
              "(8492, 8)"
            ]
          },
          "metadata": {
            "tags": []
          },
          "execution_count": 116
        }
      ]
    },
    {
      "cell_type": "markdown",
      "metadata": {
        "id": "XnapPlOMqcNj",
        "colab_type": "text"
      },
      "source": [
        "The simple data augmentation techniques are the following:\n",
        "\n",
        "1. SR: synonym replacement\n",
        "2. RD: random deletion\n",
        "3. RS: random swap\n",
        "4. RI: random insertion\n",
        "\n",
        "From Maël Fabien"
      ]
    },
    {
      "cell_type": "code",
      "metadata": {
        "id": "Ck4bMPCqoYL_",
        "colab_type": "code",
        "colab": {}
      },
      "source": [
        "def get_synonyms(word):\n",
        "  synonyms = set()\n",
        "    \n",
        "  for syn in wordnet.synsets(word): \n",
        "    for l in syn.lemmas(): \n",
        "      synonym = l.name().replace(\"_\", \" \").replace(\"-\", \" \").lower()\n",
        "      synonym = \"\".join([char for char in synonym if char in ' qwertyuiopasdfghjklzxcvbnm'])\n",
        "      synonyms.add(synonym) \n",
        "    \n",
        "  if word in synonyms:\n",
        "    synonyms.remove(word)\n",
        "    \n",
        "  return list(synonyms)\n",
        "\n",
        "#######################################################################################\n",
        "\n",
        "def synonym_replacement(words, n):\n",
        "  new_words = words.copy()\n",
        "  random_word_list = list(set([word for word in words if word not in STOP_WORDS]))\n",
        "  random.shuffle(random_word_list)\n",
        "  num_replaced = 0\n",
        "    \n",
        "  for random_word in random_word_list:\n",
        "    synonyms = get_synonyms(random_word)\n",
        "        \n",
        "    if len(synonyms) >= 1:\n",
        "      synonym = random.choice(list(synonyms))\n",
        "      new_words = [synonym if word == random_word else word for word in new_words]\n",
        "      num_replaced += 1\n",
        "        \n",
        "    if num_replaced >= n: #only replace up to n words\n",
        "      break\n",
        "\n",
        "  sentence = ' '.join(new_words)\n",
        "  \n",
        "  return sentence\n",
        "\n",
        "#######################################################################################\n",
        "def random_deletion(words, p):\n",
        "  #obviously, if there's only one word, don't delete it\n",
        "  if len(words) == 1:\n",
        "    return words\n",
        "\n",
        "  #randomly delete words with probability p\n",
        "  new_words = []\n",
        "  for word in words:\n",
        "    r = random.uniform(0, 1)\n",
        "    if r > p:\n",
        "      new_words.append(word)\n",
        "\n",
        "  #if you end up deleting all words, just return a random word\n",
        "  if len(new_words) == 0:\n",
        "    rand_int = random.randint(0, len(words)-1)\n",
        "    return [words[rand_int]]\n",
        "\n",
        "  sentence = ' '.join(new_words)\n",
        "  return sentence\n",
        "\n",
        "#######################################################################################\n",
        "\n",
        "def swap_word(new_words):\n",
        "  random_idx_1 = random.randint(0, len(new_words)-1)\n",
        "  random_idx_2 = random_idx_1\n",
        "  counter = 0\n",
        "    \n",
        "  while random_idx_2 == random_idx_1:\n",
        "    random_idx_2 = random.randint(0, len(new_words)-1)\n",
        "    counter += 1\n",
        "        \n",
        "    if counter > 3:\n",
        "      return new_words\n",
        "    \n",
        "  new_words[random_idx_1], new_words[random_idx_2] = new_words[random_idx_2], new_words[random_idx_1]\n",
        "  return new_words\n",
        "\n",
        "#######################################################################################\n",
        "\n",
        "def random_swap(words, n):\n",
        "  new_words = words.copy()\n",
        "    \n",
        "  for _ in range(n):\n",
        "    new_words = swap_word(new_words)\n",
        "        \n",
        "  sentence = ' '.join(new_words)\n",
        "  return sentence\n",
        "\n",
        "#######################################################################################\n",
        "\n",
        "def random_insertion(words, n):\n",
        "  new_words = words.copy()\n",
        "  \n",
        "  for _ in range(n):\n",
        "    add_word(new_words)\n",
        "        \n",
        "  sentence = ' '.join(new_words)\n",
        "  return sentence\n",
        "\n",
        "#######################################################################################\n",
        "\n",
        "def add_word(new_words):  \n",
        "  synonyms = []\n",
        "  counter = 0\n",
        "    \n",
        "  while len(synonyms) < 1:\n",
        "    random_word = new_words[random.randint(0, len(new_words)-1)]\n",
        "    synonyms = get_synonyms(random_word)\n",
        "    counter += 1\n",
        "    if counter >= 10:\n",
        "      return\n",
        "        \n",
        "  random_synonym = synonyms[0]\n",
        "  random_idx = random.randint(0, len(new_words)-1)\n",
        "  new_words.insert(random_idx, random_synonym)"
      ],
      "execution_count": null,
      "outputs": []
    },
    {
      "cell_type": "code",
      "metadata": {
        "id": "5ENPevTDuWXZ",
        "colab_type": "code",
        "colab": {}
      },
      "source": [
        "def eda_data_augment(sentence, alpha_sr=0.1, alpha_ri=0.1, alpha_rs=0.1, p_rd=0.1, num_aug=15):\n",
        "  words = sentence.split(' ')\n",
        "  words = [word for word in words if word is not '']\n",
        "  num_words = len(words)\n",
        "\n",
        "  augmented_sentences = []\n",
        "  num_new_per_technique = int(num_aug / 4) + 1\n",
        "  n_sr = max(1, int(alpha_sr * num_words))\n",
        "  n_ri = max(1, int(alpha_ri * num_words))\n",
        "  n_rs = max(1, int(alpha_rs * num_words))\n",
        "\n",
        "  #sr\n",
        "  for _ in range(num_new_per_technique):\n",
        "    a_words = synonym_replacement(words, n_sr)\n",
        "    augmented_sentences.append(''.join(a_words))\n",
        "  \n",
        "  #ri\n",
        "  for _ in range(num_new_per_technique):\n",
        "    a_words = random_insertion(words, n_ri)\n",
        "    augmented_sentences.append(''.join(a_words))\n",
        "\n",
        "  #rs\n",
        "  for _ in range(num_new_per_technique):\n",
        "    a_words = random_swap(words, n_rs)\n",
        "    augmented_sentences.append(''.join(a_words))\n",
        "\n",
        "  #rd\n",
        "  for _ in range(num_new_per_technique):\n",
        "    a_words = random_deletion(words, p_rd)\n",
        "    augmented_sentences.append(''.join(a_words))\n",
        "\n",
        "  augmented_sentences = [sentence for sentence in augmented_sentences]\n",
        "  shuffle(augmented_sentences)\n",
        "\n",
        "  #trim so that we have the desired number of augmented sentences\n",
        "  if num_aug >= 1:\n",
        "    augmented_sentences = augmented_sentences[:num_aug]\n",
        "  else:\n",
        "    keep_prob = num_aug / len(augmented_sentences)\n",
        "    augmented_sentences = [s for s in augmented_sentences if random.uniform(0, 1) < 1]\n",
        "\n",
        "  #append the original sentence\n",
        "  # augmented_sentences.append(sentence)\n",
        "\n",
        "  return augmented_sentences"
      ],
      "execution_count": null,
      "outputs": []
    },
    {
      "cell_type": "code",
      "metadata": {
        "id": "sCxV-OFKtaoV",
        "colab_type": "code",
        "colab": {}
      },
      "source": [
        "need_augmentation = data.groupby(Y).filter(lambda x: len(x) < 16)"
      ],
      "execution_count": null,
      "outputs": []
    },
    {
      "cell_type": "code",
      "metadata": {
        "id": "TWLDEyxK-bXK",
        "colab_type": "code",
        "colab": {
          "base_uri": "https://localhost:8080/",
          "height": 34
        },
        "outputId": "440e13f0-ab4b-4618-97ac-b1c93c2d9668"
      },
      "source": [
        "data.shape"
      ],
      "execution_count": null,
      "outputs": [
        {
          "output_type": "execute_result",
          "data": {
            "text/plain": [
              "(8492, 8)"
            ]
          },
          "metadata": {
            "tags": []
          },
          "execution_count": 85
        }
      ]
    },
    {
      "cell_type": "code",
      "metadata": {
        "id": "9R7ILdaS4FqQ",
        "colab_type": "code",
        "colab": {}
      },
      "source": [
        "augmented_series = []\n",
        "for index, row in need_augmentation.iterrows():\n",
        "  augmented_sentences = eda_data_augment(row[X0])\n",
        "  for sentence in augmented_sentences:\n",
        "    augmented_series.append(pd.DataFrame.from_records([{X0: sentence, X1: row[X1], X2: row[X2], X3: row[X3], X4: len(sentence.split(' ')), X5: row[X5], Y: row[Y]}]))\n",
        "data = data.append(augmented_series)\n",
        "data.reset_index(inplace=True)"
      ],
      "execution_count": null,
      "outputs": []
    },
    {
      "cell_type": "code",
      "metadata": {
        "id": "zFrscp7nMsSh",
        "colab_type": "code",
        "colab": {
          "base_uri": "https://localhost:8080/",
          "height": 34
        },
        "outputId": "c8cfa94f-7900-4c39-a98c-476cb249d16b"
      },
      "source": [
        "data.shape"
      ],
      "execution_count": null,
      "outputs": [
        {
          "output_type": "execute_result",
          "data": {
            "text/plain": [
              "(10787, 9)"
            ]
          },
          "metadata": {
            "tags": []
          },
          "execution_count": 131
        }
      ]
    },
    {
      "cell_type": "code",
      "metadata": {
        "id": "MTIXWFpsNvuq",
        "colab_type": "code",
        "colab": {
          "base_uri": "https://localhost:8080/",
          "height": 255
        },
        "outputId": "51daec15-0100-44cd-b7c6-158d99696281"
      },
      "source": [
        "data.info()"
      ],
      "execution_count": null,
      "outputs": [
        {
          "output_type": "stream",
          "text": [
            "<class 'pandas.core.frame.DataFrame'>\n",
            "RangeIndex: 10787 entries, 0 to 10786\n",
            "Data columns (total 7 columns):\n",
            " #   Column             Non-Null Count  Dtype \n",
            "---  ------             --------------  ----- \n",
            " 0   Short description  10773 non-null  object\n",
            " 1   Description        10720 non-null  object\n",
            " 2   Caller             10787 non-null  object\n",
            " 3   Assignment group   10787 non-null  object\n",
            " 4   Final Data         10787 non-null  object\n",
            " 5   Word Count         10787 non-null  int64 \n",
            " 6   Short Word Count   10787 non-null  int64 \n",
            "dtypes: int64(2), object(5)\n",
            "memory usage: 590.0+ KB\n"
          ],
          "name": "stdout"
        }
      ]
    },
    {
      "cell_type": "code",
      "metadata": {
        "id": "TiowUU68mjc7",
        "colab_type": "code",
        "colab": {}
      },
      "source": [
        "data.drop(columns=['index', 'Unnamed: 0'], axis=1, inplace=True)"
      ],
      "execution_count": null,
      "outputs": []
    },
    {
      "cell_type": "code",
      "metadata": {
        "id": "AI06oJa3m6tX",
        "colab_type": "code",
        "colab": {
          "base_uri": "https://localhost:8080/",
          "height": 306
        },
        "outputId": "da50c636-1b56-4697-bd50-aa27c335cc38"
      },
      "source": [
        "data.head()"
      ],
      "execution_count": null,
      "outputs": [
        {
          "output_type": "execute_result",
          "data": {
            "text/html": [
              "<div>\n",
              "<style scoped>\n",
              "    .dataframe tbody tr th:only-of-type {\n",
              "        vertical-align: middle;\n",
              "    }\n",
              "\n",
              "    .dataframe tbody tr th {\n",
              "        vertical-align: top;\n",
              "    }\n",
              "\n",
              "    .dataframe thead th {\n",
              "        text-align: right;\n",
              "    }\n",
              "</style>\n",
              "<table border=\"1\" class=\"dataframe\">\n",
              "  <thead>\n",
              "    <tr style=\"text-align: right;\">\n",
              "      <th></th>\n",
              "      <th>Short description</th>\n",
              "      <th>Description</th>\n",
              "      <th>Caller</th>\n",
              "      <th>Assignment group</th>\n",
              "      <th>Final Data</th>\n",
              "      <th>Word Count</th>\n",
              "      <th>Short Word Count</th>\n",
              "    </tr>\n",
              "  </thead>\n",
              "  <tbody>\n",
              "    <tr>\n",
              "      <th>0</th>\n",
              "      <td>login issue</td>\n",
              "      <td>verified user details employee manager checked...</td>\n",
              "      <td>spxjnwir pjlcoqds</td>\n",
              "      <td>GRP_0</td>\n",
              "      <td>verified user details employee manager checked...</td>\n",
              "      <td>20</td>\n",
              "      <td>2</td>\n",
              "    </tr>\n",
              "    <tr>\n",
              "      <th>1</th>\n",
              "      <td>outlook</td>\n",
              "      <td>received hello team meetings skype meetings et...</td>\n",
              "      <td>hmjdrvpb komuaywn</td>\n",
              "      <td>GRP_0</td>\n",
              "      <td>received hello team meetings skype meetings et...</td>\n",
              "      <td>14</td>\n",
              "      <td>1</td>\n",
              "    </tr>\n",
              "    <tr>\n",
              "      <th>2</th>\n",
              "      <td>nt log vpn</td>\n",
              "      <td>received hi log vpn best</td>\n",
              "      <td>eylqgodm ybqkwiam</td>\n",
              "      <td>GRP_0</td>\n",
              "      <td>nt log vpn received hi log vpn best</td>\n",
              "      <td>8</td>\n",
              "      <td>3</td>\n",
              "    </tr>\n",
              "    <tr>\n",
              "      <th>3</th>\n",
              "      <td>unable access hr tool page</td>\n",
              "      <td>unable access hr tool page</td>\n",
              "      <td>xbkucsvz gcpydteq</td>\n",
              "      <td>GRP_0</td>\n",
              "      <td>unable access hr tool page</td>\n",
              "      <td>5</td>\n",
              "      <td>5</td>\n",
              "    </tr>\n",
              "    <tr>\n",
              "      <th>4</th>\n",
              "      <td>skype error</td>\n",
              "      <td>skype error</td>\n",
              "      <td>owlgqjme qhcozdfx</td>\n",
              "      <td>GRP_0</td>\n",
              "      <td>skype error</td>\n",
              "      <td>2</td>\n",
              "      <td>2</td>\n",
              "    </tr>\n",
              "  </tbody>\n",
              "</table>\n",
              "</div>"
            ],
            "text/plain": [
              "            Short description  ... Short Word Count\n",
              "0                 login issue  ...                2\n",
              "1                     outlook  ...                1\n",
              "2                  nt log vpn  ...                3\n",
              "3  unable access hr tool page  ...                5\n",
              "4                 skype error  ...                2\n",
              "\n",
              "[5 rows x 7 columns]"
            ]
          },
          "metadata": {
            "tags": []
          },
          "execution_count": 136
        }
      ]
    },
    {
      "cell_type": "code",
      "metadata": {
        "id": "wD3Is02gNyaZ",
        "colab_type": "code",
        "colab": {}
      },
      "source": [
        "data.to_excel('data_augmented_post_stopword.xlsx')"
      ],
      "execution_count": null,
      "outputs": []
    },
    {
      "cell_type": "code",
      "metadata": {
        "id": "UTj37QuqPBk-",
        "colab_type": "code",
        "colab": {}
      },
      "source": [
        ""
      ],
      "execution_count": null,
      "outputs": []
    }
  ]
}